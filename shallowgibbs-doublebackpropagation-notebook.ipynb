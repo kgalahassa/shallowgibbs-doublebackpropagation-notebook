{
 "cells": [
  {
   "cell_type": "code",
   "execution_count": null,
   "id": "361c62f6",
   "metadata": {},
   "outputs": [],
   "source": [
    "import numpy as np\n",
    "import numpy.ma as ma\n",
    "import shallowgibbs.doublebackpropagation as SGDBS"
   ]
  },
  {
   "cell_type": "markdown",
   "id": "2a5caf02",
   "metadata": {},
   "source": [
    "To test the model, we have extracted a random Potts Cluster (from a random Potts partition), obtained using the pottscompleteshrinkage package \n",
    "(https://pypi.org/project/pottscompleteshrinkage/). \n",
    "\n",
    "The design of the Shallow Net is simple as possible:\n",
    "    \n",
    "    W = [vec(w1), vec(w2)] with w1 of size (l_0xl_1) and w2 of size (l_1xl_2)\n",
    "    \n",
    "In this example, l_1 = 1. "
   ]
  },
  {
   "cell_type": "code",
   "execution_count": null,
   "id": "21865676",
   "metadata": {},
   "outputs": [],
   "source": [
    "### Load the Potts Cluster Data\n",
    "\n",
    "shallowgibbs_covariables_train = np.loadtxt('All_Cluster_xtrain_cluster_1.csv', delimiter=',') \n",
    "shallowgibbs_covariables_test = np.loadtxt('All_Cluster_xtest_cluster_1.csv',  delimiter=',')\n",
    "shallowgibbs_response_train = np.loadtxt('All_Cluster_ytrain_cluster_1.csv',  delimiter=',') \n",
    "shallowgibbs_response_test =  np.loadtxt('All_Cluster_ytest_cluster_1.csv', delimiter=',')\n",
    "\n",
    "### Apply NaNs corrections if there are any.\n",
    "\n",
    "np.where(np.isnan(shallowgibbs_response_train), ma.array(shallowgibbs_response_train, mask=np.isnan(shallowgibbs_response_train)).mean(axis=0), shallowgibbs_response_train) \n",
    "np.where(np.isnan(shallowgibbs_response_test), ma.array(shallowgibbs_response_test, mask=np.isnan(shallowgibbs_response_test)).mean(axis=0), shallowgibbs_response_test) \t\n",
    "\n",
    "\n",
    "### Load the first initial Predictions from any other model with same structure, or from the Shallow Gibbs Model.\n",
    "\n",
    "W = np.loadtxt('All_W_train_predictions_cluster_1.csv', delimiter=',')\n",
    "b = np.loadtxt('All_b_train_predictions_cluster_1.csv',  delimiter=',')\n",
    "Sigma = np.loadtxt('All_Sigma_train_predictions_cluster_1.csv',  delimiter=',') \n",
    "\n",
    "shallowgibbs_Y_testpred =np.loadtxt('All_Cluster_ytest_prediction_cluster_1.csv', delimiter=',')\n",
    "shallowgibbs_Y_trainpred =np.loadtxt('All_Cluster_ytrain_prediction_cluster_1.csv', delimiter=',')\n",
    "\n",
    "### Set the parameters\n",
    "\n",
    "l_0 = shallowgibbs_covariables_train.shape[1]\n",
    "l_1 = 1\n",
    "l_2 = shallowgibbs_response_train.shape[1]\n",
    "\n",
    "### Set the number of DBS iterations\n",
    "\n",
    "double_backpropagation_time = 3\n",
    "\n",
    "### Set the dbs learning rate for the parameters: dbs_epsilon\n",
    "\n",
    "dbs_epsilon = 10e-3\n",
    "\n",
    "Final_Cluster_ytrain_prediction, Final_SPNNR_train_rmse, Final_Cluster_ytest_prediction, test_rmse = SGDBS.Double_Backpropagated_predictions (shallowgibbs_Y_trainpred, shallowgibbs_Y_testpred, W,b,Sigma, double_backpropagation_time, l_1, shallowgibbs_covariables_train,shallowgibbs_response_train,shallowgibbs_covariables_test,shallowgibbs_response_test,dbs_epsilon)\n"
   ]
  }
 ],
 "metadata": {
  "kernelspec": {
   "display_name": "Python 3",
   "language": "python",
   "name": "python3"
  },
  "language_info": {
   "codemirror_mode": {
    "name": "ipython",
    "version": 3
   },
   "file_extension": ".py",
   "mimetype": "text/x-python",
   "name": "python",
   "nbconvert_exporter": "python",
   "pygments_lexer": "ipython3",
   "version": "3.7.9"
  }
 },
 "nbformat": 4,
 "nbformat_minor": 5
}
